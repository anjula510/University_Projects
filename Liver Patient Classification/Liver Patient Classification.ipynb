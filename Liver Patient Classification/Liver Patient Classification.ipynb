{
  "cells": [
    {
      "cell_type": "code",
      "execution_count": null,
      "id": "64259d61",
      "metadata": {
        "id": "64259d61",
        "outputId": "895a3f26-03a4-49c5-8d6a-5285bf971e92",
        "colab": {
          "base_uri": "https://localhost:8080/"
        }
      },
      "outputs": [
        {
          "output_type": "stream",
          "name": "stdout",
          "text": [
            "Looking in indexes: https://pypi.org/simple, https://us-python.pkg.dev/colab-wheels/public/simple/\n",
            "Requirement already satisfied: imbalanced-learn in /usr/local/lib/python3.7/dist-packages (0.8.1)\n",
            "Requirement already satisfied: numpy>=1.13.3 in /usr/local/lib/python3.7/dist-packages (from imbalanced-learn) (1.21.6)\n",
            "Requirement already satisfied: joblib>=0.11 in /usr/local/lib/python3.7/dist-packages (from imbalanced-learn) (1.1.0)\n",
            "Requirement already satisfied: scipy>=0.19.1 in /usr/local/lib/python3.7/dist-packages (from imbalanced-learn) (1.7.3)\n",
            "Requirement already satisfied: scikit-learn>=0.24 in /usr/local/lib/python3.7/dist-packages (from imbalanced-learn) (1.0.2)\n",
            "Requirement already satisfied: threadpoolctl>=2.0.0 in /usr/local/lib/python3.7/dist-packages (from scikit-learn>=0.24->imbalanced-learn) (3.1.0)\n"
          ]
        }
      ],
      "source": [
        "!pip install imbalanced-learn"
      ]
    },
    {
      "cell_type": "code",
      "execution_count": null,
      "id": "4af7b7bb",
      "metadata": {
        "id": "4af7b7bb"
      },
      "outputs": [],
      "source": [
        "import pandas as pd\n",
        "import numpy as np\n",
        "import matplotlib.pyplot as plt\n",
        "import imblearn\n",
        "\n",
        "#importing ML model from sklearn-library\n",
        "\n",
        "from sklearn.neighbors import KNeighborsClassifier\n",
        "from sklearn.linear_model import LogisticRegression\n",
        "from sklearn.svm import SVC\n",
        "from sklearn.ensemble import RandomForestClassifier\n",
        "from sklearn.ensemble import GradientBoostingClassifier\n",
        "from sklearn.tree import DecisionTreeClassifier\n",
        "\n",
        "#Importing metrix functions from SK-Learn\n",
        "\n",
        "from sklearn.metrics import roc_auc_score, r2_score, mean_absolute_error, mean_squared_error\n",
        "from sklearn.model_selection import cross_val_score\n",
        "from sklearn.metrics import classification_report, confusion_matrix\n",
        "from sklearn.preprocessing import LabelEncoder"
      ]
    },
    {
      "cell_type": "code",
      "execution_count": null,
      "id": "1d60aaa8",
      "metadata": {
        "id": "1d60aaa8",
        "outputId": "cbf27136-502c-42d4-87d0-09749b0040b0",
        "colab": {
          "base_uri": "https://localhost:8080/"
        }
      },
      "outputs": [
        {
          "output_type": "stream",
          "name": "stdout",
          "text": [
            "Looking in indexes: https://pypi.org/simple, https://us-python.pkg.dev/colab-wheels/public/simple/\n",
            "Requirement already satisfied: openpyxl in /usr/local/lib/python3.7/dist-packages (3.0.10)\n",
            "Requirement already satisfied: et-xmlfile in /usr/local/lib/python3.7/dist-packages (from openpyxl) (1.1.0)\n"
          ]
        }
      ],
      "source": [
        "!pip install openpyxl"
      ]
    },
    {
      "cell_type": "code",
      "source": [
        "from google.colab import drive\n",
        "drive.mount('/gdrive')\n",
        "%cd /gdrive"
      ],
      "metadata": {
        "colab": {
          "base_uri": "https://localhost:8080/"
        },
        "id": "7Y30M5vVY205",
        "outputId": "35af2e76-8b20-4a1f-8f28-3b639095ca68"
      },
      "id": "7Y30M5vVY205",
      "execution_count": null,
      "outputs": [
        {
          "output_type": "stream",
          "name": "stdout",
          "text": [
            "Drive already mounted at /gdrive; to attempt to forcibly remount, call drive.mount(\"/gdrive\", force_remount=True).\n",
            "/gdrive\n"
          ]
        }
      ]
    },
    {
      "cell_type": "code",
      "execution_count": null,
      "id": "4fedd0c8",
      "metadata": {
        "id": "4fedd0c8"
      },
      "outputs": [],
      "source": [
        "data_train = pd.read_excel(\"/gdrive/My Drive/Colab Notebooks/4th Year/Data Analytics/Assignment 02/SCS4204_IS4103_CS4104 _dataset.xlsx\",sheet_name=0)\n",
        "data_test = pd.read_excel(\"/gdrive/My Drive/Colab Notebooks/4th Year/Data Analytics/Assignment 02/SCS4204_IS4103_CS4104 _dataset.xlsx\",sheet_name=1)\n"
      ]
    },
    {
      "cell_type": "code",
      "execution_count": null,
      "id": "5fc7e38f",
      "metadata": {
        "id": "5fc7e38f",
        "outputId": "272abdd5-a04b-490e-9be2-f757b2764b3c",
        "colab": {
          "base_uri": "https://localhost:8080/",
          "height": 206
        }
      },
      "outputs": [
        {
          "output_type": "execute_result",
          "data": {
            "text/plain": [
              "   ID  Age  Gender    TB   DB  ALK SGPT SGOT   TP  ALB AG_Ratio Class\n",
              "0   1   65  Female   0.7  0.1  187   16   18  6.8  3.3      0.9   Yes\n",
              "1   2   62    Male  10.9  5.5  699   64  100  7.5  3.2     0.74   Yes\n",
              "2   3   62    Male   7.3  4.1  490   60   68    7  3.3     0.89   Yes\n",
              "3   4   58    Male     1  0.4  182   14   20  6.8  3.4        1   Yes\n",
              "4   5   72    Male   3.9    2  195   27   59  7.3  2.4      0.4   Yes"
            ],
            "text/html": [
              "\n",
              "  <div id=\"df-dea91ca4-fbc6-4cd3-bbc8-7d7842c7cb58\">\n",
              "    <div class=\"colab-df-container\">\n",
              "      <div>\n",
              "<style scoped>\n",
              "    .dataframe tbody tr th:only-of-type {\n",
              "        vertical-align: middle;\n",
              "    }\n",
              "\n",
              "    .dataframe tbody tr th {\n",
              "        vertical-align: top;\n",
              "    }\n",
              "\n",
              "    .dataframe thead th {\n",
              "        text-align: right;\n",
              "    }\n",
              "</style>\n",
              "<table border=\"1\" class=\"dataframe\">\n",
              "  <thead>\n",
              "    <tr style=\"text-align: right;\">\n",
              "      <th></th>\n",
              "      <th>ID</th>\n",
              "      <th>Age</th>\n",
              "      <th>Gender</th>\n",
              "      <th>TB</th>\n",
              "      <th>DB</th>\n",
              "      <th>ALK</th>\n",
              "      <th>SGPT</th>\n",
              "      <th>SGOT</th>\n",
              "      <th>TP</th>\n",
              "      <th>ALB</th>\n",
              "      <th>AG_Ratio</th>\n",
              "      <th>Class</th>\n",
              "    </tr>\n",
              "  </thead>\n",
              "  <tbody>\n",
              "    <tr>\n",
              "      <th>0</th>\n",
              "      <td>1</td>\n",
              "      <td>65</td>\n",
              "      <td>Female</td>\n",
              "      <td>0.7</td>\n",
              "      <td>0.1</td>\n",
              "      <td>187</td>\n",
              "      <td>16</td>\n",
              "      <td>18</td>\n",
              "      <td>6.8</td>\n",
              "      <td>3.3</td>\n",
              "      <td>0.9</td>\n",
              "      <td>Yes</td>\n",
              "    </tr>\n",
              "    <tr>\n",
              "      <th>1</th>\n",
              "      <td>2</td>\n",
              "      <td>62</td>\n",
              "      <td>Male</td>\n",
              "      <td>10.9</td>\n",
              "      <td>5.5</td>\n",
              "      <td>699</td>\n",
              "      <td>64</td>\n",
              "      <td>100</td>\n",
              "      <td>7.5</td>\n",
              "      <td>3.2</td>\n",
              "      <td>0.74</td>\n",
              "      <td>Yes</td>\n",
              "    </tr>\n",
              "    <tr>\n",
              "      <th>2</th>\n",
              "      <td>3</td>\n",
              "      <td>62</td>\n",
              "      <td>Male</td>\n",
              "      <td>7.3</td>\n",
              "      <td>4.1</td>\n",
              "      <td>490</td>\n",
              "      <td>60</td>\n",
              "      <td>68</td>\n",
              "      <td>7</td>\n",
              "      <td>3.3</td>\n",
              "      <td>0.89</td>\n",
              "      <td>Yes</td>\n",
              "    </tr>\n",
              "    <tr>\n",
              "      <th>3</th>\n",
              "      <td>4</td>\n",
              "      <td>58</td>\n",
              "      <td>Male</td>\n",
              "      <td>1</td>\n",
              "      <td>0.4</td>\n",
              "      <td>182</td>\n",
              "      <td>14</td>\n",
              "      <td>20</td>\n",
              "      <td>6.8</td>\n",
              "      <td>3.4</td>\n",
              "      <td>1</td>\n",
              "      <td>Yes</td>\n",
              "    </tr>\n",
              "    <tr>\n",
              "      <th>4</th>\n",
              "      <td>5</td>\n",
              "      <td>72</td>\n",
              "      <td>Male</td>\n",
              "      <td>3.9</td>\n",
              "      <td>2</td>\n",
              "      <td>195</td>\n",
              "      <td>27</td>\n",
              "      <td>59</td>\n",
              "      <td>7.3</td>\n",
              "      <td>2.4</td>\n",
              "      <td>0.4</td>\n",
              "      <td>Yes</td>\n",
              "    </tr>\n",
              "  </tbody>\n",
              "</table>\n",
              "</div>\n",
              "      <button class=\"colab-df-convert\" onclick=\"convertToInteractive('df-dea91ca4-fbc6-4cd3-bbc8-7d7842c7cb58')\"\n",
              "              title=\"Convert this dataframe to an interactive table.\"\n",
              "              style=\"display:none;\">\n",
              "        \n",
              "  <svg xmlns=\"http://www.w3.org/2000/svg\" height=\"24px\"viewBox=\"0 0 24 24\"\n",
              "       width=\"24px\">\n",
              "    <path d=\"M0 0h24v24H0V0z\" fill=\"none\"/>\n",
              "    <path d=\"M18.56 5.44l.94 2.06.94-2.06 2.06-.94-2.06-.94-.94-2.06-.94 2.06-2.06.94zm-11 1L8.5 8.5l.94-2.06 2.06-.94-2.06-.94L8.5 2.5l-.94 2.06-2.06.94zm10 10l.94 2.06.94-2.06 2.06-.94-2.06-.94-.94-2.06-.94 2.06-2.06.94z\"/><path d=\"M17.41 7.96l-1.37-1.37c-.4-.4-.92-.59-1.43-.59-.52 0-1.04.2-1.43.59L10.3 9.45l-7.72 7.72c-.78.78-.78 2.05 0 2.83L4 21.41c.39.39.9.59 1.41.59.51 0 1.02-.2 1.41-.59l7.78-7.78 2.81-2.81c.8-.78.8-2.07 0-2.86zM5.41 20L4 18.59l7.72-7.72 1.47 1.35L5.41 20z\"/>\n",
              "  </svg>\n",
              "      </button>\n",
              "      \n",
              "  <style>\n",
              "    .colab-df-container {\n",
              "      display:flex;\n",
              "      flex-wrap:wrap;\n",
              "      gap: 12px;\n",
              "    }\n",
              "\n",
              "    .colab-df-convert {\n",
              "      background-color: #E8F0FE;\n",
              "      border: none;\n",
              "      border-radius: 50%;\n",
              "      cursor: pointer;\n",
              "      display: none;\n",
              "      fill: #1967D2;\n",
              "      height: 32px;\n",
              "      padding: 0 0 0 0;\n",
              "      width: 32px;\n",
              "    }\n",
              "\n",
              "    .colab-df-convert:hover {\n",
              "      background-color: #E2EBFA;\n",
              "      box-shadow: 0px 1px 2px rgba(60, 64, 67, 0.3), 0px 1px 3px 1px rgba(60, 64, 67, 0.15);\n",
              "      fill: #174EA6;\n",
              "    }\n",
              "\n",
              "    [theme=dark] .colab-df-convert {\n",
              "      background-color: #3B4455;\n",
              "      fill: #D2E3FC;\n",
              "    }\n",
              "\n",
              "    [theme=dark] .colab-df-convert:hover {\n",
              "      background-color: #434B5C;\n",
              "      box-shadow: 0px 1px 3px 1px rgba(0, 0, 0, 0.15);\n",
              "      filter: drop-shadow(0px 1px 2px rgba(0, 0, 0, 0.3));\n",
              "      fill: #FFFFFF;\n",
              "    }\n",
              "  </style>\n",
              "\n",
              "      <script>\n",
              "        const buttonEl =\n",
              "          document.querySelector('#df-dea91ca4-fbc6-4cd3-bbc8-7d7842c7cb58 button.colab-df-convert');\n",
              "        buttonEl.style.display =\n",
              "          google.colab.kernel.accessAllowed ? 'block' : 'none';\n",
              "\n",
              "        async function convertToInteractive(key) {\n",
              "          const element = document.querySelector('#df-dea91ca4-fbc6-4cd3-bbc8-7d7842c7cb58');\n",
              "          const dataTable =\n",
              "            await google.colab.kernel.invokeFunction('convertToInteractive',\n",
              "                                                     [key], {});\n",
              "          if (!dataTable) return;\n",
              "\n",
              "          const docLinkHtml = 'Like what you see? Visit the ' +\n",
              "            '<a target=\"_blank\" href=https://colab.research.google.com/notebooks/data_table.ipynb>data table notebook</a>'\n",
              "            + ' to learn more about interactive tables.';\n",
              "          element.innerHTML = '';\n",
              "          dataTable['output_type'] = 'display_data';\n",
              "          await google.colab.output.renderOutput(dataTable, element);\n",
              "          const docLink = document.createElement('div');\n",
              "          docLink.innerHTML = docLinkHtml;\n",
              "          element.appendChild(docLink);\n",
              "        }\n",
              "      </script>\n",
              "    </div>\n",
              "  </div>\n",
              "  "
            ]
          },
          "metadata": {},
          "execution_count": 90
        }
      ],
      "source": [
        "data_train.head() #first 5 data"
      ]
    },
    {
      "cell_type": "code",
      "execution_count": null,
      "id": "f8a97322",
      "metadata": {
        "id": "f8a97322",
        "outputId": "805c8570-b42e-490a-e894-893282a101e2",
        "colab": {
          "base_uri": "https://localhost:8080/"
        }
      },
      "outputs": [
        {
          "output_type": "execute_result",
          "data": {
            "text/plain": [
              "array(['Yes', 'No'], dtype=object)"
            ]
          },
          "metadata": {},
          "execution_count": 91
        }
      ],
      "source": [
        "data_train.Class.unique()"
      ]
    },
    {
      "cell_type": "code",
      "execution_count": null,
      "id": "4409c19f",
      "metadata": {
        "id": "4409c19f",
        "outputId": "dc025fe6-d128-426b-d49e-6a1dcdbfa111",
        "colab": {
          "base_uri": "https://localhost:8080/"
        }
      },
      "outputs": [
        {
          "output_type": "execute_result",
          "data": {
            "text/plain": [
              "583"
            ]
          },
          "metadata": {},
          "execution_count": 92
        }
      ],
      "source": [
        "len(data_test)\n",
        "len(data_train)"
      ]
    },
    {
      "cell_type": "code",
      "execution_count": null,
      "id": "9afbf4cd",
      "metadata": {
        "id": "9afbf4cd",
        "outputId": "480a224b-ebe4-4389-b74f-28d6276a0762",
        "colab": {
          "base_uri": "https://localhost:8080/"
        }
      },
      "outputs": [
        {
          "output_type": "execute_result",
          "data": {
            "text/plain": [
              "ID          0\n",
              "Age         0\n",
              "Gender      0\n",
              "TB          0\n",
              "DB          0\n",
              "ALK         0\n",
              "SGPT        0\n",
              "SGOT        0\n",
              "TP          0\n",
              "ALB         0\n",
              "AG_Ratio    0\n",
              "Class       0\n",
              "dtype: int64"
            ]
          },
          "metadata": {},
          "execution_count": 121
        }
      ],
      "source": [
        "#Check Missing values in train dataset\n",
        "\n",
        "data_train.isnull().sum()"
      ]
    },
    {
      "cell_type": "markdown",
      "source": [
        "No any missing value"
      ],
      "metadata": {
        "id": "7unxwXjRdJWn"
      },
      "id": "7unxwXjRdJWn"
    },
    {
      "cell_type": "code",
      "execution_count": null,
      "id": "dee9913c",
      "metadata": {
        "id": "dee9913c",
        "outputId": "0ac9ab20-cad9-464c-f193-92dc1ff31f85",
        "colab": {
          "base_uri": "https://localhost:8080/"
        }
      },
      "outputs": [
        {
          "output_type": "execute_result",
          "data": {
            "text/plain": [
              "ID          0\n",
              "Age         0\n",
              "Gender      0\n",
              "TB          0\n",
              "DB          0\n",
              "ALK         0\n",
              "SGPT        0\n",
              "SGOT        0\n",
              "TP          0\n",
              "ALB         0\n",
              "AG_Ratio    0\n",
              "Class       0\n",
              "dtype: int64"
            ]
          },
          "metadata": {},
          "execution_count": 122
        }
      ],
      "source": [
        "#Check Missing values in test dataset\n",
        "\n",
        "data_test.isnull().sum()"
      ]
    },
    {
      "cell_type": "markdown",
      "source": [
        "There is 1 null value AG_Ratio, So we can remove it because it is small proportion of data set."
      ],
      "metadata": {
        "id": "2eughC06jtkC"
      },
      "id": "2eughC06jtkC"
    },
    {
      "cell_type": "code",
      "execution_count": null,
      "id": "0cf7e609",
      "metadata": {
        "id": "0cf7e609",
        "outputId": "11eb7ba3-8a2a-44d4-d9d2-2838fb8fadfd",
        "colab": {
          "base_uri": "https://localhost:8080/"
        }
      },
      "outputs": [
        {
          "output_type": "execute_result",
          "data": {
            "text/plain": [
              "293"
            ]
          },
          "metadata": {},
          "execution_count": 123
        }
      ],
      "source": [
        "data_test.dropna(inplace = True)\n",
        "data_test.isnull().sum()\n",
        "len(data_test)"
      ]
    },
    {
      "cell_type": "code",
      "source": [
        "target_count =data_train.Class.value_counts()\n",
        "\n",
        "\n",
        "print('Class 0:', target_count[0])\n",
        "print('Class 1:', target_count[1])\n",
        "\n",
        "target_count.plot(kind='bar', title='Count (target)');"
      ],
      "metadata": {
        "colab": {
          "base_uri": "https://localhost:8080/",
          "height": 313
        },
        "id": "VzO6xDXJOsRM",
        "outputId": "64301249-76ec-42d9-f70a-a40b2dd3c8ef"
      },
      "id": "VzO6xDXJOsRM",
      "execution_count": null,
      "outputs": [
        {
          "output_type": "stream",
          "name": "stdout",
          "text": [
            "Class 0: 164\n",
            "Class 1: 404\n"
          ]
        },
        {
          "output_type": "display_data",
          "data": {
            "text/plain": [
              "<Figure size 432x288 with 1 Axes>"
            ],
            "image/png": "[encoded data removed]"
          },
          "metadata": {
            "needs_background": "light"
          }
        }
      ]
    },
    {
      "cell_type": "markdown",
      "source": [
        "416 observations belong to 'yes' and 167 obervations belong to 'No'. There for this is unbalance"
      ],
      "metadata": {
        "id": "MYuRSEn8lHp9"
      },
      "id": "MYuRSEn8lHp9"
    },
    {
      "cell_type": "markdown",
      "source": [
        "#Fitting model"
      ],
      "metadata": {
        "id": "8IaZx0EemEcY"
      },
      "id": "8IaZx0EemEcY"
    },
    {
      "cell_type": "code",
      "execution_count": null,
      "id": "8d178bc1",
      "metadata": {
        "id": "8d178bc1"
      },
      "outputs": [],
      "source": [
        "# Dropping the converted Group data points\n",
        "\n",
        "# Dropping the unwanted columns\n",
        "\n",
        "le=LabelEncoder()\n",
        "\n",
        "data_train[['Gender','Class']]=data_train[['Gender','Class']].apply(le.fit_transform)\n",
        "\n",
        "data_test[['Gender','Class']]=data_test[['Gender','Class']].apply(le.fit_transform)"
      ]
    },
    {
      "cell_type": "code",
      "execution_count": null,
      "id": "61c06428",
      "metadata": {
        "id": "61c06428",
        "outputId": "ebae811f-911e-4afc-f7da-c2877bddd559",
        "colab": {
          "base_uri": "https://localhost:8080/",
          "height": 206
        }
      },
      "outputs": [
        {
          "output_type": "execute_result",
          "data": {
            "text/plain": [
              "   ID  Age  Gender    TB   DB    ALK  SGPT   SGOT   TP  ALB  AG_Ratio  Class\n",
              "0   1   65       0   0.7  0.1  187.0  16.0   18.0  6.8  3.3      0.90      1\n",
              "1   2   62       1  10.9  5.5  699.0  64.0  100.0  7.5  3.2      0.74      1\n",
              "2   3   62       1   7.3  4.1  490.0  60.0   68.0  7.0  3.3      0.89      1\n",
              "3   4   58       1   1.0  0.4  182.0  14.0   20.0  6.8  3.4      1.00      1\n",
              "4   5   72       1   3.9  2.0  195.0  27.0   59.0  7.3  2.4      0.40      1"
            ],
            "text/html": [
              "\n",
              "  <div id=\"df-487f7e3a-5315-4794-b0f4-4c4ac8f1d14e\">\n",
              "    <div class=\"colab-df-container\">\n",
              "      <div>\n",
              "<style scoped>\n",
              "    .dataframe tbody tr th:only-of-type {\n",
              "        vertical-align: middle;\n",
              "    }\n",
              "\n",
              "    .dataframe tbody tr th {\n",
              "        vertical-align: top;\n",
              "    }\n",
              "\n",
              "    .dataframe thead th {\n",
              "        text-align: right;\n",
              "    }\n",
              "</style>\n",
              "<table border=\"1\" class=\"dataframe\">\n",
              "  <thead>\n",
              "    <tr style=\"text-align: right;\">\n",
              "      <th></th>\n",
              "      <th>ID</th>\n",
              "      <th>Age</th>\n",
              "      <th>Gender</th>\n",
              "      <th>TB</th>\n",
              "      <th>DB</th>\n",
              "      <th>ALK</th>\n",
              "      <th>SGPT</th>\n",
              "      <th>SGOT</th>\n",
              "      <th>TP</th>\n",
              "      <th>ALB</th>\n",
              "      <th>AG_Ratio</th>\n",
              "      <th>Class</th>\n",
              "    </tr>\n",
              "  </thead>\n",
              "  <tbody>\n",
              "    <tr>\n",
              "      <th>0</th>\n",
              "      <td>1</td>\n",
              "      <td>65</td>\n",
              "      <td>0</td>\n",
              "      <td>0.7</td>\n",
              "      <td>0.1</td>\n",
              "      <td>187.0</td>\n",
              "      <td>16.0</td>\n",
              "      <td>18.0</td>\n",
              "      <td>6.8</td>\n",
              "      <td>3.3</td>\n",
              "      <td>0.90</td>\n",
              "      <td>1</td>\n",
              "    </tr>\n",
              "    <tr>\n",
              "      <th>1</th>\n",
              "      <td>2</td>\n",
              "      <td>62</td>\n",
              "      <td>1</td>\n",
              "      <td>10.9</td>\n",
              "      <td>5.5</td>\n",
              "      <td>699.0</td>\n",
              "      <td>64.0</td>\n",
              "      <td>100.0</td>\n",
              "      <td>7.5</td>\n",
              "      <td>3.2</td>\n",
              "      <td>0.74</td>\n",
              "      <td>1</td>\n",
              "    </tr>\n",
              "    <tr>\n",
              "      <th>2</th>\n",
              "      <td>3</td>\n",
              "      <td>62</td>\n",
              "      <td>1</td>\n",
              "      <td>7.3</td>\n",
              "      <td>4.1</td>\n",
              "      <td>490.0</td>\n",
              "      <td>60.0</td>\n",
              "      <td>68.0</td>\n",
              "      <td>7.0</td>\n",
              "      <td>3.3</td>\n",
              "      <td>0.89</td>\n",
              "      <td>1</td>\n",
              "    </tr>\n",
              "    <tr>\n",
              "      <th>3</th>\n",
              "      <td>4</td>\n",
              "      <td>58</td>\n",
              "      <td>1</td>\n",
              "      <td>1.0</td>\n",
              "      <td>0.4</td>\n",
              "      <td>182.0</td>\n",
              "      <td>14.0</td>\n",
              "      <td>20.0</td>\n",
              "      <td>6.8</td>\n",
              "      <td>3.4</td>\n",
              "      <td>1.00</td>\n",
              "      <td>1</td>\n",
              "    </tr>\n",
              "    <tr>\n",
              "      <th>4</th>\n",
              "      <td>5</td>\n",
              "      <td>72</td>\n",
              "      <td>1</td>\n",
              "      <td>3.9</td>\n",
              "      <td>2.0</td>\n",
              "      <td>195.0</td>\n",
              "      <td>27.0</td>\n",
              "      <td>59.0</td>\n",
              "      <td>7.3</td>\n",
              "      <td>2.4</td>\n",
              "      <td>0.40</td>\n",
              "      <td>1</td>\n",
              "    </tr>\n",
              "  </tbody>\n",
              "</table>\n",
              "</div>\n",
              "      <button class=\"colab-df-convert\" onclick=\"convertToInteractive('df-487f7e3a-5315-4794-b0f4-4c4ac8f1d14e')\"\n",
              "              title=\"Convert this dataframe to an interactive table.\"\n",
              "              style=\"display:none;\">\n",
              "        \n",
              "  <svg xmlns=\"http://www.w3.org/2000/svg\" height=\"24px\"viewBox=\"0 0 24 24\"\n",
              "       width=\"24px\">\n",
              "    <path d=\"M0 0h24v24H0V0z\" fill=\"none\"/>\n",
              "    <path d=\"M18.56 5.44l.94 2.06.94-2.06 2.06-.94-2.06-.94-.94-2.06-.94 2.06-2.06.94zm-11 1L8.5 8.5l.94-2.06 2.06-.94-2.06-.94L8.5 2.5l-.94 2.06-2.06.94zm10 10l.94 2.06.94-2.06 2.06-.94-2.06-.94-.94-2.06-.94 2.06-2.06.94z\"/><path d=\"M17.41 7.96l-1.37-1.37c-.4-.4-.92-.59-1.43-.59-.52 0-1.04.2-1.43.59L10.3 9.45l-7.72 7.72c-.78.78-.78 2.05 0 2.83L4 21.41c.39.39.9.59 1.41.59.51 0 1.02-.2 1.41-.59l7.78-7.78 2.81-2.81c.8-.78.8-2.07 0-2.86zM5.41 20L4 18.59l7.72-7.72 1.47 1.35L5.41 20z\"/>\n",
              "  </svg>\n",
              "      </button>\n",
              "      \n",
              "  <style>\n",
              "    .colab-df-container {\n",
              "      display:flex;\n",
              "      flex-wrap:wrap;\n",
              "      gap: 12px;\n",
              "    }\n",
              "\n",
              "    .colab-df-convert {\n",
              "      background-color: #E8F0FE;\n",
              "      border: none;\n",
              "      border-radius: 50%;\n",
              "      cursor: pointer;\n",
              "      display: none;\n",
              "      fill: #1967D2;\n",
              "      height: 32px;\n",
              "      padding: 0 0 0 0;\n",
              "      width: 32px;\n",
              "    }\n",
              "\n",
              "    .colab-df-convert:hover {\n",
              "      background-color: #E2EBFA;\n",
              "      box-shadow: 0px 1px 2px rgba(60, 64, 67, 0.3), 0px 1px 3px 1px rgba(60, 64, 67, 0.15);\n",
              "      fill: #174EA6;\n",
              "    }\n",
              "\n",
              "    [theme=dark] .colab-df-convert {\n",
              "      background-color: #3B4455;\n",
              "      fill: #D2E3FC;\n",
              "    }\n",
              "\n",
              "    [theme=dark] .colab-df-convert:hover {\n",
              "      background-color: #434B5C;\n",
              "      box-shadow: 0px 1px 3px 1px rgba(0, 0, 0, 0.15);\n",
              "      filter: drop-shadow(0px 1px 2px rgba(0, 0, 0, 0.3));\n",
              "      fill: #FFFFFF;\n",
              "    }\n",
              "  </style>\n",
              "\n",
              "      <script>\n",
              "        const buttonEl =\n",
              "          document.querySelector('#df-487f7e3a-5315-4794-b0f4-4c4ac8f1d14e button.colab-df-convert');\n",
              "        buttonEl.style.display =\n",
              "          google.colab.kernel.accessAllowed ? 'block' : 'none';\n",
              "\n",
              "        async function convertToInteractive(key) {\n",
              "          const element = document.querySelector('#df-487f7e3a-5315-4794-b0f4-4c4ac8f1d14e');\n",
              "          const dataTable =\n",
              "            await google.colab.kernel.invokeFunction('convertToInteractive',\n",
              "                                                     [key], {});\n",
              "          if (!dataTable) return;\n",
              "\n",
              "          const docLinkHtml = 'Like what you see? Visit the ' +\n",
              "            '<a target=\"_blank\" href=https://colab.research.google.com/notebooks/data_table.ipynb>data table notebook</a>'\n",
              "            + ' to learn more about interactive tables.';\n",
              "          element.innerHTML = '';\n",
              "          dataTable['output_type'] = 'display_data';\n",
              "          await google.colab.output.renderOutput(dataTable, element);\n",
              "          const docLink = document.createElement('div');\n",
              "          docLink.innerHTML = docLinkHtml;\n",
              "          element.appendChild(docLink);\n",
              "        }\n",
              "      </script>\n",
              "    </div>\n",
              "  </div>\n",
              "  "
            ]
          },
          "metadata": {},
          "execution_count": 126
        }
      ],
      "source": [
        "data_train.head()"
      ]
    },
    {
      "cell_type": "code",
      "execution_count": null,
      "id": "387510c3",
      "metadata": {
        "id": "387510c3",
        "colab": {
          "base_uri": "https://localhost:8080/",
          "height": 206
        },
        "outputId": "dd6247de-bff1-495c-a329-daf712c820e3"
      },
      "outputs": [
        {
          "output_type": "execute_result",
          "data": {
            "text/plain": [
              "   ID  Age  Gender    TB   DB    ALK  SGPT   SGOT   TP  ALB  AG_Ratio  Class\n",
              "0   1   65       0   0.7  0.1  187.0  16.0   18.0  6.8  3.3      0.90      1\n",
              "1   2   62       1  10.9  5.5  699.0  64.0  100.0  7.5  3.2      0.74      1\n",
              "2   3   62       1   7.3  4.1  490.0  60.0   68.0  7.0  3.3      0.89      1\n",
              "3   4   58       1   1.0  0.4  182.0  14.0   20.0  6.8  3.4      1.00      1\n",
              "4   5   72       1   3.9  2.0  195.0  27.0   59.0  7.3  2.4      0.40      1"
            ],
            "text/html": [
              "\n",
              "  <div id=\"df-50c477f6-56ff-43cb-956b-950732bc9987\">\n",
              "    <div class=\"colab-df-container\">\n",
              "      <div>\n",
              "<style scoped>\n",
              "    .dataframe tbody tr th:only-of-type {\n",
              "        vertical-align: middle;\n",
              "    }\n",
              "\n",
              "    .dataframe tbody tr th {\n",
              "        vertical-align: top;\n",
              "    }\n",
              "\n",
              "    .dataframe thead th {\n",
              "        text-align: right;\n",
              "    }\n",
              "</style>\n",
              "<table border=\"1\" class=\"dataframe\">\n",
              "  <thead>\n",
              "    <tr style=\"text-align: right;\">\n",
              "      <th></th>\n",
              "      <th>ID</th>\n",
              "      <th>Age</th>\n",
              "      <th>Gender</th>\n",
              "      <th>TB</th>\n",
              "      <th>DB</th>\n",
              "      <th>ALK</th>\n",
              "      <th>SGPT</th>\n",
              "      <th>SGOT</th>\n",
              "      <th>TP</th>\n",
              "      <th>ALB</th>\n",
              "      <th>AG_Ratio</th>\n",
              "      <th>Class</th>\n",
              "    </tr>\n",
              "  </thead>\n",
              "  <tbody>\n",
              "    <tr>\n",
              "      <th>0</th>\n",
              "      <td>1</td>\n",
              "      <td>65</td>\n",
              "      <td>0</td>\n",
              "      <td>0.7</td>\n",
              "      <td>0.1</td>\n",
              "      <td>187.0</td>\n",
              "      <td>16.0</td>\n",
              "      <td>18.0</td>\n",
              "      <td>6.8</td>\n",
              "      <td>3.3</td>\n",
              "      <td>0.90</td>\n",
              "      <td>1</td>\n",
              "    </tr>\n",
              "    <tr>\n",
              "      <th>1</th>\n",
              "      <td>2</td>\n",
              "      <td>62</td>\n",
              "      <td>1</td>\n",
              "      <td>10.9</td>\n",
              "      <td>5.5</td>\n",
              "      <td>699.0</td>\n",
              "      <td>64.0</td>\n",
              "      <td>100.0</td>\n",
              "      <td>7.5</td>\n",
              "      <td>3.2</td>\n",
              "      <td>0.74</td>\n",
              "      <td>1</td>\n",
              "    </tr>\n",
              "    <tr>\n",
              "      <th>2</th>\n",
              "      <td>3</td>\n",
              "      <td>62</td>\n",
              "      <td>1</td>\n",
              "      <td>7.3</td>\n",
              "      <td>4.1</td>\n",
              "      <td>490.0</td>\n",
              "      <td>60.0</td>\n",
              "      <td>68.0</td>\n",
              "      <td>7.0</td>\n",
              "      <td>3.3</td>\n",
              "      <td>0.89</td>\n",
              "      <td>1</td>\n",
              "    </tr>\n",
              "    <tr>\n",
              "      <th>3</th>\n",
              "      <td>4</td>\n",
              "      <td>58</td>\n",
              "      <td>1</td>\n",
              "      <td>1.0</td>\n",
              "      <td>0.4</td>\n",
              "      <td>182.0</td>\n",
              "      <td>14.0</td>\n",
              "      <td>20.0</td>\n",
              "      <td>6.8</td>\n",
              "      <td>3.4</td>\n",
              "      <td>1.00</td>\n",
              "      <td>1</td>\n",
              "    </tr>\n",
              "    <tr>\n",
              "      <th>4</th>\n",
              "      <td>5</td>\n",
              "      <td>72</td>\n",
              "      <td>1</td>\n",
              "      <td>3.9</td>\n",
              "      <td>2.0</td>\n",
              "      <td>195.0</td>\n",
              "      <td>27.0</td>\n",
              "      <td>59.0</td>\n",
              "      <td>7.3</td>\n",
              "      <td>2.4</td>\n",
              "      <td>0.40</td>\n",
              "      <td>1</td>\n",
              "    </tr>\n",
              "  </tbody>\n",
              "</table>\n",
              "</div>\n",
              "      <button class=\"colab-df-convert\" onclick=\"convertToInteractive('df-50c477f6-56ff-43cb-956b-950732bc9987')\"\n",
              "              title=\"Convert this dataframe to an interactive table.\"\n",
              "              style=\"display:none;\">\n",
              "        \n",
              "  <svg xmlns=\"http://www.w3.org/2000/svg\" height=\"24px\"viewBox=\"0 0 24 24\"\n",
              "       width=\"24px\">\n",
              "    <path d=\"M0 0h24v24H0V0z\" fill=\"none\"/>\n",
              "    <path d=\"M18.56 5.44l.94 2.06.94-2.06 2.06-.94-2.06-.94-.94-2.06-.94 2.06-2.06.94zm-11 1L8.5 8.5l.94-2.06 2.06-.94-2.06-.94L8.5 2.5l-.94 2.06-2.06.94zm10 10l.94 2.06.94-2.06 2.06-.94-2.06-.94-.94-2.06-.94 2.06-2.06.94z\"/><path d=\"M17.41 7.96l-1.37-1.37c-.4-.4-.92-.59-1.43-.59-.52 0-1.04.2-1.43.59L10.3 9.45l-7.72 7.72c-.78.78-.78 2.05 0 2.83L4 21.41c.39.39.9.59 1.41.59.51 0 1.02-.2 1.41-.59l7.78-7.78 2.81-2.81c.8-.78.8-2.07 0-2.86zM5.41 20L4 18.59l7.72-7.72 1.47 1.35L5.41 20z\"/>\n",
              "  </svg>\n",
              "      </button>\n",
              "      \n",
              "  <style>\n",
              "    .colab-df-container {\n",
              "      display:flex;\n",
              "      flex-wrap:wrap;\n",
              "      gap: 12px;\n",
              "    }\n",
              "\n",
              "    .colab-df-convert {\n",
              "      background-color: #E8F0FE;\n",
              "      border: none;\n",
              "      border-radius: 50%;\n",
              "      cursor: pointer;\n",
              "      display: none;\n",
              "      fill: #1967D2;\n",
              "      height: 32px;\n",
              "      padding: 0 0 0 0;\n",
              "      width: 32px;\n",
              "    }\n",
              "\n",
              "    .colab-df-convert:hover {\n",
              "      background-color: #E2EBFA;\n",
              "      box-shadow: 0px 1px 2px rgba(60, 64, 67, 0.3), 0px 1px 3px 1px rgba(60, 64, 67, 0.15);\n",
              "      fill: #174EA6;\n",
              "    }\n",
              "\n",
              "    [theme=dark] .colab-df-convert {\n",
              "      background-color: #3B4455;\n",
              "      fill: #D2E3FC;\n",
              "    }\n",
              "\n",
              "    [theme=dark] .colab-df-convert:hover {\n",
              "      background-color: #434B5C;\n",
              "      box-shadow: 0px 1px 3px 1px rgba(0, 0, 0, 0.15);\n",
              "      filter: drop-shadow(0px 1px 2px rgba(0, 0, 0, 0.3));\n",
              "      fill: #FFFFFF;\n",
              "    }\n",
              "  </style>\n",
              "\n",
              "      <script>\n",
              "        const buttonEl =\n",
              "          document.querySelector('#df-50c477f6-56ff-43cb-956b-950732bc9987 button.colab-df-convert');\n",
              "        buttonEl.style.display =\n",
              "          google.colab.kernel.accessAllowed ? 'block' : 'none';\n",
              "\n",
              "        async function convertToInteractive(key) {\n",
              "          const element = document.querySelector('#df-50c477f6-56ff-43cb-956b-950732bc9987');\n",
              "          const dataTable =\n",
              "            await google.colab.kernel.invokeFunction('convertToInteractive',\n",
              "                                                     [key], {});\n",
              "          if (!dataTable) return;\n",
              "\n",
              "          const docLinkHtml = 'Like what you see? Visit the ' +\n",
              "            '<a target=\"_blank\" href=https://colab.research.google.com/notebooks/data_table.ipynb>data table notebook</a>'\n",
              "            + ' to learn more about interactive tables.';\n",
              "          element.innerHTML = '';\n",
              "          dataTable['output_type'] = 'display_data';\n",
              "          await google.colab.output.renderOutput(dataTable, element);\n",
              "          const docLink = document.createElement('div');\n",
              "          docLink.innerHTML = docLinkHtml;\n",
              "          element.appendChild(docLink);\n",
              "        }\n",
              "      </script>\n",
              "    </div>\n",
              "  </div>\n",
              "  "
            ]
          },
          "metadata": {},
          "execution_count": 127
        }
      ],
      "source": [
        "data_test.head()"
      ]
    },
    {
      "cell_type": "code",
      "execution_count": null,
      "id": "b5c0ac36",
      "metadata": {
        "scrolled": false,
        "id": "b5c0ac36",
        "outputId": "c725d713-2682-4ef4-f0df-3bed78836bd9",
        "colab": {
          "base_uri": "https://localhost:8080/"
        }
      },
      "outputs": [
        {
          "output_type": "execute_result",
          "data": {
            "text/plain": [
              "ID            int64\n",
              "Age           int64\n",
              "Gender        int64\n",
              "TB          float64\n",
              "DB          float64\n",
              "ALK         float64\n",
              "SGPT        float64\n",
              "SGOT        float64\n",
              "TP          float64\n",
              "ALB         float64\n",
              "AG_Ratio    float64\n",
              "Class         int64\n",
              "dtype: object"
            ]
          },
          "metadata": {},
          "execution_count": 128
        }
      ],
      "source": [
        "data_train.dtypes\n"
      ]
    },
    {
      "cell_type": "code",
      "execution_count": null,
      "id": "9c88d4c1",
      "metadata": {
        "id": "9c88d4c1"
      },
      "outputs": [],
      "source": [
        "data_train[\"TB\"] = pd.to_numeric(data_train[\"TB\"],errors='coerce')\n",
        "data_train[\"DB\"] = pd.to_numeric(data_train[\"DB\"],errors='coerce')\n",
        "data_train[\"ALK\"] = pd.to_numeric(data_train[\"ALK\"],errors='coerce')\n",
        "data_train[\"SGPT\"] = pd.to_numeric(data_train[\"SGPT\"],errors='coerce')\n",
        "data_train[\"SGOT\"] = pd.to_numeric(data_train[\"SGOT\"],errors='coerce')\n",
        "data_train[\"ALB\"] = pd.to_numeric(data_train[\"ALB\"],errors='coerce')\n",
        "data_train[\"AG_Ratio\"] = pd.to_numeric(data_train[\"AG_Ratio\"],errors='coerce')\n",
        "data_train[\"TP\"] = pd.to_numeric(data_train[\"TP\"],errors='coerce')\n",
        "\n",
        "\n",
        "data_test[\"TB\"] = pd.to_numeric(data_test[\"TB\"],errors='coerce')\n",
        "data_test[\"DB\"] = pd.to_numeric(data_test[\"DB\"],errors='coerce')\n",
        "data_test[\"ALK\"] = pd.to_numeric(data_test[\"ALK\"],errors='coerce')\n",
        "data_test[\"SGPT\"] = pd.to_numeric(data_test[\"SGPT\"],errors='coerce')\n",
        "data_test[\"SGOT\"] = pd.to_numeric(data_test[\"SGOT\"],errors='coerce')\n",
        "data_test[\"ALB\"] = pd.to_numeric(data_test[\"ALB\"],errors='coerce')\n",
        "data_test[\"AG_Ratio\"] = pd.to_numeric(data_test[\"AG_Ratio\"],errors='coerce')\n",
        "data_test[\"TP\"] = pd.to_numeric(data_test[\"TP\"],errors='coerce')"
      ]
    },
    {
      "cell_type": "code",
      "execution_count": null,
      "id": "05a36ea5",
      "metadata": {
        "scrolled": true,
        "id": "05a36ea5",
        "outputId": "a21a7955-c369-457c-994a-5f1454c996fc",
        "colab": {
          "base_uri": "https://localhost:8080/"
        }
      },
      "outputs": [
        {
          "output_type": "execute_result",
          "data": {
            "text/plain": [
              "ID          0\n",
              "Age         0\n",
              "Gender      0\n",
              "TB          0\n",
              "DB          0\n",
              "ALK         0\n",
              "SGPT        0\n",
              "SGOT        0\n",
              "TP          0\n",
              "ALB         0\n",
              "AG_Ratio    0\n",
              "Class       0\n",
              "dtype: int64"
            ]
          },
          "metadata": {},
          "execution_count": 130
        }
      ],
      "source": [
        "data_train.isnull().sum()"
      ]
    },
    {
      "cell_type": "markdown",
      "source": [
        "Null values available in 'TB' ,'DB' ,'ALk', 'SGPT', 'SGOT', 'TP', 'ALB', 'AG_Ratio'"
      ],
      "metadata": {
        "id": "xVa4Bi5WnbEt"
      },
      "id": "xVa4Bi5WnbEt"
    },
    {
      "cell_type": "code",
      "execution_count": null,
      "id": "ba6cc0f8",
      "metadata": {
        "id": "ba6cc0f8",
        "outputId": "61885be2-3ffb-4a06-cb7c-5aea83448d65",
        "colab": {
          "base_uri": "https://localhost:8080/"
        }
      },
      "outputs": [
        {
          "output_type": "execute_result",
          "data": {
            "text/plain": [
              "568"
            ]
          },
          "metadata": {},
          "execution_count": 131
        }
      ],
      "source": [
        "#Remove null values\n",
        "\n",
        "data_train.dropna(inplace = True)\n",
        "data_train.isnull().sum()\n",
        "len(data_train)"
      ]
    },
    {
      "cell_type": "code",
      "source": [
        "data_test.dropna(inplace = True)\n",
        "data_test.isnull().sum()\n",
        "len(data_test)"
      ],
      "metadata": {
        "colab": {
          "base_uri": "https://localhost:8080/"
        },
        "id": "AxReIrNfWAGi",
        "outputId": "32503647-f5ce-4bb5-b428-64a0899c4a1a"
      },
      "id": "AxReIrNfWAGi",
      "execution_count": null,
      "outputs": [
        {
          "output_type": "execute_result",
          "data": {
            "text/plain": [
              "293"
            ]
          },
          "metadata": {},
          "execution_count": 132
        }
      ]
    },
    {
      "cell_type": "code",
      "source": [
        "data_train.head()"
      ],
      "metadata": {
        "colab": {
          "base_uri": "https://localhost:8080/",
          "height": 206
        },
        "id": "ORHewSEolKg7",
        "outputId": "8e4de5b6-98ff-441b-8342-125e3e710181"
      },
      "id": "ORHewSEolKg7",
      "execution_count": null,
      "outputs": [
        {
          "output_type": "execute_result",
          "data": {
            "text/plain": [
              "   ID  Age  Gender    TB   DB    ALK  SGPT   SGOT   TP  ALB  AG_Ratio  Class\n",
              "0   1   65       0   0.7  0.1  187.0  16.0   18.0  6.8  3.3      0.90      1\n",
              "1   2   62       1  10.9  5.5  699.0  64.0  100.0  7.5  3.2      0.74      1\n",
              "2   3   62       1   7.3  4.1  490.0  60.0   68.0  7.0  3.3      0.89      1\n",
              "3   4   58       1   1.0  0.4  182.0  14.0   20.0  6.8  3.4      1.00      1\n",
              "4   5   72       1   3.9  2.0  195.0  27.0   59.0  7.3  2.4      0.40      1"
            ],
            "text/html": [
              "\n",
              "  <div id=\"df-4714afcb-08f4-4a5e-afdc-fcd7d0f08f69\">\n",
              "    <div class=\"colab-df-container\">\n",
              "      <div>\n",
              "<style scoped>\n",
              "    .dataframe tbody tr th:only-of-type {\n",
              "        vertical-align: middle;\n",
              "    }\n",
              "\n",
              "    .dataframe tbody tr th {\n",
              "        vertical-align: top;\n",
              "    }\n",
              "\n",
              "    .dataframe thead th {\n",
              "        text-align: right;\n",
              "    }\n",
              "</style>\n",
              "<table border=\"1\" class=\"dataframe\">\n",
              "  <thead>\n",
              "    <tr style=\"text-align: right;\">\n",
              "      <th></th>\n",
              "      <th>ID</th>\n",
              "      <th>Age</th>\n",
              "      <th>Gender</th>\n",
              "      <th>TB</th>\n",
              "      <th>DB</th>\n",
              "      <th>ALK</th>\n",
              "      <th>SGPT</th>\n",
              "      <th>SGOT</th>\n",
              "      <th>TP</th>\n",
              "      <th>ALB</th>\n",
              "      <th>AG_Ratio</th>\n",
              "      <th>Class</th>\n",
              "    </tr>\n",
              "  </thead>\n",
              "  <tbody>\n",
              "    <tr>\n",
              "      <th>0</th>\n",
              "      <td>1</td>\n",
              "      <td>65</td>\n",
              "      <td>0</td>\n",
              "      <td>0.7</td>\n",
              "      <td>0.1</td>\n",
              "      <td>187.0</td>\n",
              "      <td>16.0</td>\n",
              "      <td>18.0</td>\n",
              "      <td>6.8</td>\n",
              "      <td>3.3</td>\n",
              "      <td>0.90</td>\n",
              "      <td>1</td>\n",
              "    </tr>\n",
              "    <tr>\n",
              "      <th>1</th>\n",
              "      <td>2</td>\n",
              "      <td>62</td>\n",
              "      <td>1</td>\n",
              "      <td>10.9</td>\n",
              "      <td>5.5</td>\n",
              "      <td>699.0</td>\n",
              "      <td>64.0</td>\n",
              "      <td>100.0</td>\n",
              "      <td>7.5</td>\n",
              "      <td>3.2</td>\n",
              "      <td>0.74</td>\n",
              "      <td>1</td>\n",
              "    </tr>\n",
              "    <tr>\n",
              "      <th>2</th>\n",
              "      <td>3</td>\n",
              "      <td>62</td>\n",
              "      <td>1</td>\n",
              "      <td>7.3</td>\n",
              "      <td>4.1</td>\n",
              "      <td>490.0</td>\n",
              "      <td>60.0</td>\n",
              "      <td>68.0</td>\n",
              "      <td>7.0</td>\n",
              "      <td>3.3</td>\n",
              "      <td>0.89</td>\n",
              "      <td>1</td>\n",
              "    </tr>\n",
              "    <tr>\n",
              "      <th>3</th>\n",
              "      <td>4</td>\n",
              "      <td>58</td>\n",
              "      <td>1</td>\n",
              "      <td>1.0</td>\n",
              "      <td>0.4</td>\n",
              "      <td>182.0</td>\n",
              "      <td>14.0</td>\n",
              "      <td>20.0</td>\n",
              "      <td>6.8</td>\n",
              "      <td>3.4</td>\n",
              "      <td>1.00</td>\n",
              "      <td>1</td>\n",
              "    </tr>\n",
              "    <tr>\n",
              "      <th>4</th>\n",
              "      <td>5</td>\n",
              "      <td>72</td>\n",
              "      <td>1</td>\n",
              "      <td>3.9</td>\n",
              "      <td>2.0</td>\n",
              "      <td>195.0</td>\n",
              "      <td>27.0</td>\n",
              "      <td>59.0</td>\n",
              "      <td>7.3</td>\n",
              "      <td>2.4</td>\n",
              "      <td>0.40</td>\n",
              "      <td>1</td>\n",
              "    </tr>\n",
              "  </tbody>\n",
              "</table>\n",
              "</div>\n",
              "      <button class=\"colab-df-convert\" onclick=\"convertToInteractive('df-4714afcb-08f4-4a5e-afdc-fcd7d0f08f69')\"\n",
              "              title=\"Convert this dataframe to an interactive table.\"\n",
              "              style=\"display:none;\">\n",
              "        \n",
              "  <svg xmlns=\"http://www.w3.org/2000/svg\" height=\"24px\"viewBox=\"0 0 24 24\"\n",
              "       width=\"24px\">\n",
              "    <path d=\"M0 0h24v24H0V0z\" fill=\"none\"/>\n",
              "    <path d=\"M18.56 5.44l.94 2.06.94-2.06 2.06-.94-2.06-.94-.94-2.06-.94 2.06-2.06.94zm-11 1L8.5 8.5l.94-2.06 2.06-.94-2.06-.94L8.5 2.5l-.94 2.06-2.06.94zm10 10l.94 2.06.94-2.06 2.06-.94-2.06-.94-.94-2.06-.94 2.06-2.06.94z\"/><path d=\"M17.41 7.96l-1.37-1.37c-.4-.4-.92-.59-1.43-.59-.52 0-1.04.2-1.43.59L10.3 9.45l-7.72 7.72c-.78.78-.78 2.05 0 2.83L4 21.41c.39.39.9.59 1.41.59.51 0 1.02-.2 1.41-.59l7.78-7.78 2.81-2.81c.8-.78.8-2.07 0-2.86zM5.41 20L4 18.59l7.72-7.72 1.47 1.35L5.41 20z\"/>\n",
              "  </svg>\n",
              "      </button>\n",
              "      \n",
              "  <style>\n",
              "    .colab-df-container {\n",
              "      display:flex;\n",
              "      flex-wrap:wrap;\n",
              "      gap: 12px;\n",
              "    }\n",
              "\n",
              "    .colab-df-convert {\n",
              "      background-color: #E8F0FE;\n",
              "      border: none;\n",
              "      border-radius: 50%;\n",
              "      cursor: pointer;\n",
              "      display: none;\n",
              "      fill: #1967D2;\n",
              "      height: 32px;\n",
              "      padding: 0 0 0 0;\n",
              "      width: 32px;\n",
              "    }\n",
              "\n",
              "    .colab-df-convert:hover {\n",
              "      background-color: #E2EBFA;\n",
              "      box-shadow: 0px 1px 2px rgba(60, 64, 67, 0.3), 0px 1px 3px 1px rgba(60, 64, 67, 0.15);\n",
              "      fill: #174EA6;\n",
              "    }\n",
              "\n",
              "    [theme=dark] .colab-df-convert {\n",
              "      background-color: #3B4455;\n",
              "      fill: #D2E3FC;\n",
              "    }\n",
              "\n",
              "    [theme=dark] .colab-df-convert:hover {\n",
              "      background-color: #434B5C;\n",
              "      box-shadow: 0px 1px 3px 1px rgba(0, 0, 0, 0.15);\n",
              "      filter: drop-shadow(0px 1px 2px rgba(0, 0, 0, 0.3));\n",
              "      fill: #FFFFFF;\n",
              "    }\n",
              "  </style>\n",
              "\n",
              "      <script>\n",
              "        const buttonEl =\n",
              "          document.querySelector('#df-4714afcb-08f4-4a5e-afdc-fcd7d0f08f69 button.colab-df-convert');\n",
              "        buttonEl.style.display =\n",
              "          google.colab.kernel.accessAllowed ? 'block' : 'none';\n",
              "\n",
              "        async function convertToInteractive(key) {\n",
              "          const element = document.querySelector('#df-4714afcb-08f4-4a5e-afdc-fcd7d0f08f69');\n",
              "          const dataTable =\n",
              "            await google.colab.kernel.invokeFunction('convertToInteractive',\n",
              "                                                     [key], {});\n",
              "          if (!dataTable) return;\n",
              "\n",
              "          const docLinkHtml = 'Like what you see? Visit the ' +\n",
              "            '<a target=\"_blank\" href=https://colab.research.google.com/notebooks/data_table.ipynb>data table notebook</a>'\n",
              "            + ' to learn more about interactive tables.';\n",
              "          element.innerHTML = '';\n",
              "          dataTable['output_type'] = 'display_data';\n",
              "          await google.colab.output.renderOutput(dataTable, element);\n",
              "          const docLink = document.createElement('div');\n",
              "          docLink.innerHTML = docLinkHtml;\n",
              "          element.appendChild(docLink);\n",
              "        }\n",
              "      </script>\n",
              "    </div>\n",
              "  </div>\n",
              "  "
            ]
          },
          "metadata": {},
          "execution_count": 133
        }
      ]
    },
    {
      "cell_type": "code",
      "execution_count": null,
      "id": "c11d2e72",
      "metadata": {
        "id": "c11d2e72"
      },
      "outputs": [],
      "source": [
        "y = data_train.Class\n",
        "y_test = data_test.Class\n",
        "\n",
        "x = data_train.drop(['Class','ID'], axis=1, inplace = False) \n",
        "x_test = data_test.drop(['Class','ID'], axis=1, inplace = False)\n"
      ]
    },
    {
      "cell_type": "markdown",
      "source": [
        "#Applying cross validation techiques"
      ],
      "metadata": {
        "id": "1iqm6iASrXWw"
      },
      "id": "1iqm6iASrXWw"
    },
    {
      "cell_type": "code",
      "execution_count": null,
      "id": "6a8b05bb",
      "metadata": {
        "id": "6a8b05bb",
        "outputId": "3199e6cb-b52f-46e8-ce3f-6c8c201e1273",
        "colab": {
          "base_uri": "https://localhost:8080/"
        }
      },
      "outputs": [
        {
          "output_type": "stream",
          "name": "stdout",
          "text": [
            "Random Forest\n",
            "accuracy  :  0.695388914764788\n",
            "precision  :  0.7644092970521541\n",
            "recall  :  0.8467901234567901\n",
            "\n",
            "\n",
            "Logistic Regression\n",
            "accuracy  :  0.7095482068001863\n",
            "precision  :  0.7427812712857973\n",
            "recall  :  0.908611111111111\n",
            "\n",
            "\n",
            "Gradient Boosting\n",
            "accuracy  :  0.6936345287998759\n",
            "precision  :  0.763958103014262\n",
            "recall  :  0.8269753086419753\n",
            "\n",
            "\n"
          ]
        }
      ],
      "source": [
        "S_Models = [RandomForestClassifier(), LogisticRegression(solver='liblinear'), GradientBoostingClassifier()]\n",
        "S_Names = [\"Random Forest\", \"Logistic Regression\",\"Gradient Boosting\"]\n",
        "for model, name in zip(S_Models, S_Names):\n",
        "    print(name)\n",
        "    for score in [\"accuracy\", \"precision\", \"recall\"]:\n",
        "        print(score,\" : \",cross_val_score(model, x, y ,scoring=score, cv=5,error_score='raise').mean())\n",
        "       \n",
        "    print('\\n')"
      ]
    },
    {
      "cell_type": "markdown",
      "source": [
        "Accuracy of Logistic Regression model is the high"
      ],
      "metadata": {
        "id": "VX0S5U-Lseck"
      },
      "id": "VX0S5U-Lseck"
    },
    {
      "cell_type": "markdown",
      "source": [
        "#Accuracy of test data with LogisticRegression"
      ],
      "metadata": {
        "id": "JoMjCEWnss44"
      },
      "id": "JoMjCEWnss44"
    },
    {
      "cell_type": "code",
      "execution_count": null,
      "id": "e15011cb",
      "metadata": {
        "id": "e15011cb"
      },
      "outputs": [],
      "source": [
        "logreg = LogisticRegression(solver='liblinear')\n",
        "logreg.fit(x, y)\n",
        "\n",
        "logreg_predict = logreg.predict(x_test)\n",
        "\n"
      ]
    },
    {
      "cell_type": "markdown",
      "source": [
        "\n",
        "Confusion Matrix"
      ],
      "metadata": {
        "id": "Rn11_OSFui5i"
      },
      "id": "Rn11_OSFui5i"
    },
    {
      "cell_type": "code",
      "source": [
        "print(confusion_matrix(y_test, logreg_predict))"
      ],
      "metadata": {
        "colab": {
          "base_uri": "https://localhost:8080/"
        },
        "id": "FyjiFHS8yJ00",
        "outputId": "fe5c18aa-a1a6-4c97-fd61-9ecdcd0e926f"
      },
      "id": "FyjiFHS8yJ00",
      "execution_count": null,
      "outputs": [
        {
          "output_type": "stream",
          "name": "stdout",
          "text": [
            "[[ 21  63]\n",
            " [ 14 195]]\n"
          ]
        }
      ]
    },
    {
      "cell_type": "markdown",
      "source": [
        "Classification Report"
      ],
      "metadata": {
        "id": "3iAUi1Lgun8b"
      },
      "id": "3iAUi1Lgun8b"
    },
    {
      "cell_type": "code",
      "source": [
        "print(classification_report(y_test, logreg_predict))"
      ],
      "metadata": {
        "colab": {
          "base_uri": "https://localhost:8080/"
        },
        "id": "384xWYnPyKDP",
        "outputId": "3ca88fd8-8ca7-40fe-f446-8c12a3349320"
      },
      "id": "384xWYnPyKDP",
      "execution_count": null,
      "outputs": [
        {
          "output_type": "stream",
          "name": "stdout",
          "text": [
            "              precision    recall  f1-score   support\n",
            "\n",
            "           0       0.60      0.25      0.35        84\n",
            "           1       0.76      0.93      0.84       209\n",
            "\n",
            "    accuracy                           0.74       293\n",
            "   macro avg       0.68      0.59      0.59       293\n",
            "weighted avg       0.71      0.74      0.70       293\n",
            "\n"
          ]
        }
      ]
    },
    {
      "cell_type": "code",
      "source": [
        "y_pred_rnd = logreg.predict(x_test)\n",
        "\n",
        "tn, fp, fn, tp = confusion_matrix(y_test, y_pred_rnd).ravel()\n",
        "\n",
        "print(\"Accuracy: \", (tp+tn)/(tp+tn+fp+fn), \"\\n\")\n",
        "\n",
        "\n",
        "print(\"Precision: \", tp/(tp+fp), \"\\n\")\n",
        "\n",
        "\n",
        "print(\"Sensitivity: \", tp/(tp+fn), \"\\n\")\n",
        "\n",
        "\n",
        "print(\"Specificity: \", tn/(tn+fp), \"\\n\")\n",
        "\n",
        "\n",
        "print(\"Error Rate: \", (fp+fn)/(tp+tn+fp+fn), \"\\n\")"
      ],
      "metadata": {
        "colab": {
          "base_uri": "https://localhost:8080/"
        },
        "id": "HsDnQrJzGYky",
        "outputId": "ace6559f-8e6b-4834-89df-1c4790f09ef6"
      },
      "id": "HsDnQrJzGYky",
      "execution_count": null,
      "outputs": [
        {
          "output_type": "stream",
          "name": "stdout",
          "text": [
            "Accuracy:  0.7372013651877133 \n",
            "\n",
            "Precision:  0.7558139534883721 \n",
            "\n",
            "Sensitivity:  0.9330143540669856 \n",
            "\n",
            "Specificity:  0.25 \n",
            "\n",
            "Error Rate:  0.2627986348122867 \n",
            "\n"
          ]
        }
      ]
    },
    {
      "cell_type": "markdown",
      "source": [
        "#Accuracy of test data with Randomforest\n",
        "\n",
        "---\n",
        "\n"
      ],
      "metadata": {
        "id": "NQvLMxGrxFUo"
      },
      "id": "NQvLMxGrxFUo"
    },
    {
      "cell_type": "code",
      "execution_count": null,
      "id": "bffc5039",
      "metadata": {
        "id": "bffc5039"
      },
      "outputs": [],
      "source": [
        "rf = RandomForestClassifier()\n",
        "rf.fit(x, y)\n",
        "rf_predict = rf.predict(x_test)"
      ]
    },
    {
      "cell_type": "markdown",
      "source": [
        "Confusion Matix"
      ],
      "metadata": {
        "id": "pQyscyZdw3KU"
      },
      "id": "pQyscyZdw3KU"
    },
    {
      "cell_type": "code",
      "source": [
        "print(confusion_matrix(y_test, rf_predict))"
      ],
      "metadata": {
        "colab": {
          "base_uri": "https://localhost:8080/"
        },
        "id": "Y8vBKmFnvEok",
        "outputId": "841533da-dc90-4528-f8d1-73e1c45f028d"
      },
      "id": "Y8vBKmFnvEok",
      "execution_count": null,
      "outputs": [
        {
          "output_type": "stream",
          "name": "stdout",
          "text": [
            "[[ 84   0]\n",
            " [  3 206]]\n"
          ]
        }
      ]
    },
    {
      "cell_type": "markdown",
      "source": [
        "Classification Report"
      ],
      "metadata": {
        "id": "ZNAlx0RYw770"
      },
      "id": "ZNAlx0RYw770"
    },
    {
      "cell_type": "code",
      "source": [
        "print(classification_report(y_test, rf_predict))"
      ],
      "metadata": {
        "colab": {
          "base_uri": "https://localhost:8080/"
        },
        "id": "Ztt1KJdVwy1G",
        "outputId": "a426930e-9850-4545-c9fc-c97b8f16d642"
      },
      "id": "Ztt1KJdVwy1G",
      "execution_count": null,
      "outputs": [
        {
          "output_type": "stream",
          "name": "stdout",
          "text": [
            "              precision    recall  f1-score   support\n",
            "\n",
            "           0       0.97      1.00      0.98        84\n",
            "           1       1.00      0.99      0.99       209\n",
            "\n",
            "    accuracy                           0.99       293\n",
            "   macro avg       0.98      0.99      0.99       293\n",
            "weighted avg       0.99      0.99      0.99       293\n",
            "\n"
          ]
        }
      ]
    },
    {
      "cell_type": "code",
      "source": [
        "y_pred_rnd = rf.predict(x_test)\n",
        "\n",
        "tn, fp, fn, tp = confusion_matrix(y_test, y_pred_rnd).ravel()\n",
        "\n",
        "print(\"Accuracy: \", (tp+tn)/(tp+tn+fp+fn), \"\\n\")\n",
        "\n",
        "\n",
        "print(\"Precision: \", tp/(tp+fp), \"\\n\")\n",
        "\n",
        "\n",
        "print(\"Sensitivity: \", tp/(tp+fn), \"\\n\")\n",
        "\n",
        "\n",
        "print(\"Specificity: \", tn/(tn+fp), \"\\n\")\n",
        "\n",
        "\n",
        "print(\"Error Rate: \", (fp+fn)/(tp+tn+fp+fn), \"\\n\")"
      ],
      "metadata": {
        "id": "SumABX8c147k",
        "colab": {
          "base_uri": "https://localhost:8080/"
        },
        "outputId": "802255fd-c41c-4ed6-b7c8-fed03ab08bb4"
      },
      "id": "SumABX8c147k",
      "execution_count": null,
      "outputs": [
        {
          "output_type": "stream",
          "name": "stdout",
          "text": [
            "Accuracy:  0.9897610921501706 \n",
            "\n",
            "Precision:  1.0 \n",
            "\n",
            "Sensitivity:  0.9856459330143541 \n",
            "\n",
            "Specificity:  1.0 \n",
            "\n",
            "Error Rate:  0.010238907849829351 \n",
            "\n"
          ]
        }
      ]
    },
    {
      "cell_type": "markdown",
      "source": [
        "#Accuracy of test data with Gradient Boosting\n"
      ],
      "metadata": {
        "id": "0cMFzdifybny"
      },
      "id": "0cMFzdifybny"
    },
    {
      "cell_type": "code",
      "source": [
        "gb = GradientBoostingClassifier()\n",
        "gb.fit(x, y)\n",
        "gb_predict = gb.predict(x_test)"
      ],
      "metadata": {
        "id": "-ce-JbT5wzts"
      },
      "id": "-ce-JbT5wzts",
      "execution_count": null,
      "outputs": []
    },
    {
      "cell_type": "markdown",
      "source": [
        "Confussion Matrix"
      ],
      "metadata": {
        "id": "lC1BSmqtyvov"
      },
      "id": "lC1BSmqtyvov"
    },
    {
      "cell_type": "code",
      "source": [
        "print(confusion_matrix(y_test, gb_predict))"
      ],
      "metadata": {
        "colab": {
          "base_uri": "https://localhost:8080/"
        },
        "id": "fQUtSSjjyWmi",
        "outputId": "da8b1f50-89ae-4d05-e396-cbb3d8308cc6"
      },
      "id": "fQUtSSjjyWmi",
      "execution_count": null,
      "outputs": [
        {
          "output_type": "stream",
          "name": "stdout",
          "text": [
            "[[ 65  19]\n",
            " [  6 203]]\n"
          ]
        }
      ]
    },
    {
      "cell_type": "markdown",
      "source": [
        "Classification Report"
      ],
      "metadata": {
        "id": "LkNaG7DhyzLq"
      },
      "id": "LkNaG7DhyzLq"
    },
    {
      "cell_type": "code",
      "source": [
        "print(classification_report(y_test, gb_predict))"
      ],
      "metadata": {
        "colab": {
          "base_uri": "https://localhost:8080/"
        },
        "id": "Qp5Ohw2DynAb",
        "outputId": "007ed642-c2cb-4c9a-bd75-db6f10500cc6"
      },
      "id": "Qp5Ohw2DynAb",
      "execution_count": null,
      "outputs": [
        {
          "output_type": "stream",
          "name": "stdout",
          "text": [
            "              precision    recall  f1-score   support\n",
            "\n",
            "           0       0.92      0.77      0.84        84\n",
            "           1       0.91      0.97      0.94       209\n",
            "\n",
            "    accuracy                           0.91       293\n",
            "   macro avg       0.91      0.87      0.89       293\n",
            "weighted avg       0.91      0.91      0.91       293\n",
            "\n"
          ]
        }
      ]
    },
    {
      "cell_type": "code",
      "source": [
        "y_pred_rnd = gb.predict(x_test)\n",
        "\n",
        "tn, fp, fn, tp = confusion_matrix(y_test, y_pred_rnd).ravel()\n",
        "\n",
        "print(\"Accuracy: \", (tp+tn)/(tp+tn+fp+fn), \"\\n\")\n",
        "\n",
        "\n",
        "print(\"Precision: \", tp/(tp+fp), \"\\n\")\n",
        "\n",
        "\n",
        "print(\"Sensitivity: \", tp/(tp+fn), \"\\n\")\n",
        "\n",
        "\n",
        "print(\"Specificity: \", tn/(tn+fp), \"\\n\")\n",
        "\n",
        "\n",
        "print(\"Error Rate: \", (fp+fn)/(tp+tn+fp+fn), \"\\n\")"
      ],
      "metadata": {
        "colab": {
          "base_uri": "https://localhost:8080/"
        },
        "id": "AteNWny-GgCR",
        "outputId": "177fce86-1ac7-4eb1-a05f-cb6c3ba8396e"
      },
      "id": "AteNWny-GgCR",
      "execution_count": null,
      "outputs": [
        {
          "output_type": "stream",
          "name": "stdout",
          "text": [
            "Accuracy:  0.9146757679180887 \n",
            "\n",
            "Precision:  0.9144144144144144 \n",
            "\n",
            "Sensitivity:  0.9712918660287081 \n",
            "\n",
            "Specificity:  0.7738095238095238 \n",
            "\n",
            "Error Rate:  0.08532423208191127 \n",
            "\n"
          ]
        }
      ]
    }
  ],
  "metadata": {
    "kernelspec": {
      "display_name": "Python 3 (ipykernel)",
      "language": "python",
      "name": "python3"
    },
    "language_info": {
      "codemirror_mode": {
        "name": "ipython",
        "version": 3
      },
      "file_extension": ".py",
      "mimetype": "text/x-python",
      "name": "python",
      "nbconvert_exporter": "python",
      "pygments_lexer": "ipython3",
      "version": "3.10.4"
    },
    "colab": {
      "name": "Assignment 02.ipynb",
      "provenance": [],
      "collapsed_sections": []
    }
  },
  "nbformat": 4,
  "nbformat_minor": 5
}